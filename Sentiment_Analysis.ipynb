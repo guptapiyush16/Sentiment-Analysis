{
  "nbformat": 4,
  "nbformat_minor": 0,
  "metadata": {
    "colab": {
      "provenance": []
    },
    "kernelspec": {
      "name": "python3",
      "display_name": "Python 3"
    },
    "language_info": {
      "name": "python"
    }
  },
  "cells": [
    {
      "cell_type": "code",
      "source": [
        "import pandas as pd\n",
        "import numpy as np\n",
        "import warnings\n",
        "warnings.filterwarnings(\"ignore\")\n",
        "data = pd.read_csv(\"/IMDB_Dataset.csv\", header = 0, on_bad_lines='skip')\n",
        "print(data.head(10))\n",
        "print(\"\\n\", data.tail(10))"
      ],
      "metadata": {
        "collapsed": true,
        "id": "Km-5NzHkK0Lp"
      },
      "execution_count": null,
      "outputs": []
    },
    {
      "cell_type": "markdown",
      "source": [
        "# New Section"
      ],
      "metadata": {
        "id": "v-Khg9RjfBlg"
      }
    },
    {
      "cell_type": "code",
      "source": [
        "print(data.shape)\n",
        "type(data)"
      ],
      "metadata": {
        "collapsed": true,
        "id": "fCH2nRCpLJfN"
      },
      "execution_count": null,
      "outputs": []
    },
    {
      "cell_type": "code",
      "source": [
        "data[\"sentiment\"].value_counts()"
      ],
      "metadata": {
        "collapsed": true,
        "id": "ZquykrkJLZdj"
      },
      "execution_count": null,
      "outputs": []
    },
    {
      "cell_type": "code",
      "source": [
        "# Label encoder\n",
        "# positive -> 1\n",
        "# negative -> 0\n",
        "data.replace({\"sentiment\": {\"positive\": 1, \"negative\": 0}}, inplace=True)\n",
        "data.head()"
      ],
      "metadata": {
        "collapsed": true,
        "id": "NocfTOvRMMnG"
      },
      "execution_count": null,
      "outputs": []
    },
    {
      "cell_type": "code",
      "source": [
        "from sklearn.model_selection import train_test_split\n",
        "from tensorflow.keras.models import Sequential\n",
        "from tensorflow.keras.layers import Dense, Embedding, LSTM\n",
        "from tensorflow.keras.preprocessing.text import Tokenizer\n",
        "from tensorflow.keras.preprocessing.sequence import pad_sequences\n",
        "\n",
        "train_data, test_data = train_test_split(data, test_size = 0.2, random_state=42)\n",
        "print(\"Train shape : \", train_data.shape)\n",
        "print(\"Tetst shape : \", test_data.shape)"
      ],
      "metadata": {
        "collapsed": true,
        "id": "Cw3NhywGMnuw"
      },
      "execution_count": null,
      "outputs": []
    },
    {
      "cell_type": "code",
      "source": [
        "tokenizer = Tokenizer(num_words = 5000)\n",
        "tokenizer.fit_on_texts(train_data[\"review\"])\n",
        "X_train = pad_sequences(tokenizer.texts_to_sequences(train_data[\"review\"]), maxlen=200)\n",
        "X_test = pad_sequences(tokenizer.texts_to_sequences(test_data[\"review\"]), maxlen=200)\n",
        "X_train"
      ],
      "metadata": {
        "collapsed": true,
        "id": "fh-ERgaFM7gq"
      },
      "execution_count": null,
      "outputs": []
    },
    {
      "cell_type": "code",
      "source": [
        "X_test"
      ],
      "metadata": {
        "collapsed": true,
        "id": "GKLNpgM8zo-R"
      },
      "execution_count": null,
      "outputs": []
    },
    {
      "cell_type": "code",
      "source": [
        "Y_train = train_data[\"sentiment\"]\n",
        "Y_test = test_data[\"sentiment\"]\n",
        "Y_train"
      ],
      "metadata": {
        "collapsed": true,
        "id": "FGDz5ddDzv6X"
      },
      "execution_count": null,
      "outputs": []
    },
    {
      "cell_type": "code",
      "source": [
        "model = Sequential()\n",
        "model.add(Embedding(input_dim =5000, output_dim = 128, input_length = 200))\n",
        "model.add(LSTM(128, dropout=0.2, recurrent_dropout = 0.2))\n",
        "model.add(Dense(1, activation = \"sigmoid\"))\n",
        "model.summary()"
      ],
      "metadata": {
        "collapsed": true,
        "id": "zmtPeq8Wz8kn"
      },
      "execution_count": null,
      "outputs": []
    },
    {
      "cell_type": "code",
      "source": [
        "model.compile(optimizer = \"adam\", loss=\"binary_crossentropy\", metrics=[\"accuracy\"])\n",
        "model.fit(X_train, Y_train, epochs = 5, batch_size = 64, validation_split = 0.2)"
      ],
      "metadata": {
        "collapsed": true,
        "id": "jYm0CYOs0K7l"
      },
      "execution_count": null,
      "outputs": []
    },
    {
      "cell_type": "code",
      "source": [
        "model.save(\"model.h5\")\n",
        "import joblib\n",
        "joblib.dump(tokenizer, \"tokenizer.pkl\")\n",
        "loss, accuracy = model.evaluate(X_test, Y_test)\n",
        "print(loss)\n",
        "print(accuracy)"
      ],
      "metadata": {
        "id": "AMvPRInNCHMe"
      },
      "execution_count": null,
      "outputs": []
    },
    {
      "cell_type": "code",
      "source": [
        "def predictive_system(review):\n",
        "  sequences = tokenizer.texts_to_sequences([review])\n",
        "  padded_sequence = pad_sequences(sequences, maxlen=200)\n",
        "  prediction = model.predict(padded_sequence)\n",
        "  sentiment = \"positive\" if prediction[0][0] > 0.5 else \"negative\"\n",
        "  return sentiment"
      ],
      "metadata": {
        "id": "-6QwwTm4Cawz"
      },
      "execution_count": null,
      "outputs": []
    },
    {
      "cell_type": "code",
      "source": [
        "print(predictive_system(\"This movie was fantastic and amazing cast\"))\n",
        "print(predictive_system(\"A trilling adventure with stunning visual\"))\n",
        "print(predictive_system(\"A visual masterpiece\"))\n",
        "print(predictive_system(\"Too slow and boring\"))\n",
        "print(predictive_system(\"The film I was looking forward to but was a big disappointment.\"))"
      ],
      "metadata": {
        "id": "UiW3eBndCfo7",
        "collapsed": true
      },
      "execution_count": null,
      "outputs": []
    }
  ]
}